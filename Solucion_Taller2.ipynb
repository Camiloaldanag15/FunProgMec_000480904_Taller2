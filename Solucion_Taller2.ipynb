{
 "cells": [
  {
   "cell_type": "markdown",
   "id": "4125a5be",
   "metadata": {},
   "source": [
    "# TALLER 2 FUNDAMENTOS DE PROGRAMACIÓN - INGENIERÍA MECÁNICA - 202310"
   ]
  },
  {
   "cell_type": "markdown",
   "id": "412d49bb",
   "metadata": {},
   "source": [
    "## CAMILO JOSÉ ALDANA GARCÍA"
   ]
  },
  {
   "cell_type": "markdown",
   "id": "ad661d8d",
   "metadata": {},
   "source": [
    "### 00480904"
   ]
  },
  {
   "cell_type": "markdown",
   "id": "6d0826f5",
   "metadata": {},
   "source": [
    "### Email: camilojaldanag@gmail.com"
   ]
  },
  {
   "cell_type": "markdown",
   "id": "cf83a814",
   "metadata": {},
   "source": [
    "#### PUNTO 1:\n",
    "##### Se hallarán las posiciones de unas partículas a partir del tiempo transcurrido (0 y 5 segundos) cuando su posición inicial es 3m, su velocidad inicial es 5m/s y su aceleración 6m/s^2."
   ]
  },
  {
   "cell_type": "code",
   "execution_count": 22,
   "id": "486c0659",
   "metadata": {},
   "outputs": [
    {
     "name": "stdout",
     "output_type": "stream",
     "text": [
      "La posición de la partícula transcurrido 0 segundos es 3.0m.\n"
     ]
    }
   ],
   "source": [
    "x_0 = 3\n",
    "\n",
    "v_0 = 5\n",
    "\n",
    "a = 6\n",
    "\n",
    "t_1=0\n",
    "\n",
    "x_1 = x_0 + v_0 * t_1 + 0.5 * a * t_1\n",
    "\n",
    "resultado = \"La posición de la partícula transcurrido 0 segundos es \" + str(x_1) + \"m.\"\n",
    "\n",
    "print(resultado)"
   ]
  },
  {
   "cell_type": "code",
   "execution_count": 23,
   "id": "a2875ca1",
   "metadata": {},
   "outputs": [
    {
     "name": "stdout",
     "output_type": "stream",
     "text": [
      "La posición de la partícula transcurrido 5 segundos es 43.0m.\n"
     ]
    }
   ],
   "source": [
    "t_2=5\n",
    "\n",
    "x_2 = x_0 + v_0 * t_2 + 0.5 * a * t_2\n",
    "\n",
    "resultado = \"La posición de la partícula transcurrido 5 segundos es \" + str(x_2) + \"m.\"\n",
    "\n",
    "print(resultado)"
   ]
  },
  {
   "cell_type": "markdown",
   "id": "55872cb1",
   "metadata": {},
   "source": [
    "#### PUNTO 2:"
   ]
  },
  {
   "cell_type": "markdown",
   "id": "e38a81cc",
   "metadata": {},
   "source": [
    "##### Se calcularán las distancias entre 2 puntos a partir de sus coordenadas en el plano."
   ]
  },
  {
   "cell_type": "markdown",
   "id": "ca190331",
   "metadata": {},
   "source": [
    "###### Se tienen los puntos P1 con sus cooredenadas (2, 3) y P2 con sus coordenadas (-5, 4)."
   ]
  },
  {
   "cell_type": "code",
   "execution_count": 35,
   "id": "9a1f6527",
   "metadata": {},
   "outputs": [
    {
     "name": "stdout",
     "output_type": "stream",
     "text": [
      "La distancia entre el punto 1 (P1) y el punto 2 (P2) es 7.0710678118654755.\n"
     ]
    }
   ],
   "source": [
    "x_1 = 2\n",
    "\n",
    "y_1 = 3\n",
    "\n",
    "x_2  = -5\n",
    "\n",
    "y_2 = 4\n",
    "\n",
    "potencia = (x_2 - x_1)**2+(y_2 - y_1)**2\n",
    "\n",
    "sqrt = potencia ** 0.5\n",
    "\n",
    "d_1 = sqrt\n",
    "\n",
    "resultado = \"La distancia entre el punto 1 (P1) y el punto 2 (P2) es \" + str(d_1) + \".\"\n",
    "\n",
    "print(resultado)"
   ]
  },
  {
   "cell_type": "markdown",
   "id": "59c98b6b",
   "metadata": {},
   "source": [
    "##### Seguidamente se calculará la distancia entre los P3 con coordenadas (0, -2) y P4 con coordenadas (6, 1)."
   ]
  },
  {
   "cell_type": "code",
   "execution_count": 39,
   "id": "49151518",
   "metadata": {},
   "outputs": [
    {
     "name": "stdout",
     "output_type": "stream",
     "text": [
      "La distancia entre el punto 3 (P3) y el punto 4 (P4) es 6.708203932499369.\n"
     ]
    }
   ],
   "source": [
    "x_1 = 0\n",
    "\n",
    "y_1 = -2\n",
    "\n",
    "x_2 = 6\n",
    "\n",
    "y_2 = 1\n",
    "\n",
    "potencia = (x_2 - x_1)**2+(y_2 - y_1)**2\n",
    "\n",
    "sqrt = potencia ** 0.5\n",
    "\n",
    "d_2 = sqrt\n",
    "\n",
    "resultado = \"La distancia entre el punto 3 (P3) y el punto 4 (P4) es \" + str(d_2) + \".\"\n",
    "\n",
    "print(resultado)"
   ]
  },
  {
   "cell_type": "markdown",
   "id": "dd07ed39",
   "metadata": {},
   "source": [
    "#### PUNTO 3"
   ]
  },
  {
   "cell_type": "code",
   "execution_count": 45,
   "id": "9ccd29d3",
   "metadata": {},
   "outputs": [
    {
     "name": "stdout",
     "output_type": "stream",
     "text": [
      "True\n",
      "True\n",
      "False\n",
      "True\n",
      "True\n",
      "True\n",
      "False\n",
      "False\n",
      "False\n",
      "False\n"
     ]
    }
   ],
   "source": [
    "A = 5\n",
    "\n",
    "B = 2\n",
    "\n",
    "C = 3\n",
    "\n",
    "D = -2\n",
    "\n",
    "r = A > B\n",
    "print(r)\n",
    "r = B <= C\n",
    "print(r)\n",
    "r = A = B and B > C\n",
    "print(r)\n",
    "r = A < C or B < C\n",
    "print(r)\n",
    "r = C != B\n",
    "print(r)\n",
    "r = A + D < C\n",
    "print(r)\n",
    "r = D - C >= - A * B\n",
    "print(r)\n",
    "r = D * C == 5 or C * A > 9\n",
    "print(r)\n",
    "r = A * B + C > - D * 10\n",
    "print(r)\n",
    "r = 4 * B == C * 3\n",
    "print(r)\n"
   ]
  },
  {
   "cell_type": "code",
   "execution_count": null,
   "id": "aff1225a",
   "metadata": {},
   "outputs": [],
   "source": []
  }
 ],
 "metadata": {
  "kernelspec": {
   "display_name": "Python 3 (ipykernel)",
   "language": "python",
   "name": "python3"
  },
  "language_info": {
   "codemirror_mode": {
    "name": "ipython",
    "version": 3
   },
   "file_extension": ".py",
   "mimetype": "text/x-python",
   "name": "python",
   "nbconvert_exporter": "python",
   "pygments_lexer": "ipython3",
   "version": "3.11.2"
  }
 },
 "nbformat": 4,
 "nbformat_minor": 5
}
